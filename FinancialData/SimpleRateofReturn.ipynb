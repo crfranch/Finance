{
 "cells": [
  {
   "cell_type": "code",
   "execution_count": 1,
   "metadata": {},
   "outputs": [
    {
     "name": "stderr",
     "output_type": "stream",
     "text": [
      "C:\\Users\\crfra\\anaconda\\Anaconda3\\lib\\site-packages\\pandas_datareader\\compat\\__init__.py:7: FutureWarning: pandas.util.testing is deprecated. Use the functions in the public API at pandas.testing instead.\n",
      "  from pandas.util.testing import assert_frame_equal\n"
     ]
    }
   ],
   "source": [
    "import numpy as np\n",
    "from pandas_datareader import data as wb\n",
    "import matplotlib.pyplot as plt"
   ]
  },
  {
   "cell_type": "code",
   "execution_count": 2,
   "metadata": {},
   "outputs": [],
   "source": [
    "CHK = wb.DataReader('CHK', data_source='yahoo', start='1993-12-7')"
   ]
  },
  {
   "cell_type": "code",
   "execution_count": 3,
   "metadata": {},
   "outputs": [
    {
     "data": {
      "text/html": [
       "<div>\n",
       "<style scoped>\n",
       "    .dataframe tbody tr th:only-of-type {\n",
       "        vertical-align: middle;\n",
       "    }\n",
       "\n",
       "    .dataframe tbody tr th {\n",
       "        vertical-align: top;\n",
       "    }\n",
       "\n",
       "    .dataframe thead th {\n",
       "        text-align: right;\n",
       "    }\n",
       "</style>\n",
       "<table border=\"1\" class=\"dataframe\">\n",
       "  <thead>\n",
       "    <tr style=\"text-align: right;\">\n",
       "      <th></th>\n",
       "      <th>High</th>\n",
       "      <th>Low</th>\n",
       "      <th>Open</th>\n",
       "      <th>Close</th>\n",
       "      <th>Volume</th>\n",
       "      <th>Adj Close</th>\n",
       "    </tr>\n",
       "    <tr>\n",
       "      <th>Date</th>\n",
       "      <th></th>\n",
       "      <th></th>\n",
       "      <th></th>\n",
       "      <th></th>\n",
       "      <th></th>\n",
       "      <th></th>\n",
       "    </tr>\n",
       "  </thead>\n",
       "  <tbody>\n",
       "    <tr>\n",
       "      <th>1993-12-07</th>\n",
       "      <td>147.167038</td>\n",
       "      <td>131.399139</td>\n",
       "      <td>134.027115</td>\n",
       "      <td>131.399139</td>\n",
       "      <td>2000.0</td>\n",
       "      <td>110.366234</td>\n",
       "    </tr>\n",
       "    <tr>\n",
       "      <th>1993-12-08</th>\n",
       "      <td>147.167038</td>\n",
       "      <td>131.399139</td>\n",
       "      <td>131.399139</td>\n",
       "      <td>147.167038</td>\n",
       "      <td>0.0</td>\n",
       "      <td>123.610153</td>\n",
       "    </tr>\n",
       "    <tr>\n",
       "      <th>1993-12-09</th>\n",
       "      <td>147.167038</td>\n",
       "      <td>131.399139</td>\n",
       "      <td>131.399139</td>\n",
       "      <td>147.167038</td>\n",
       "      <td>400.0</td>\n",
       "      <td>123.610153</td>\n",
       "    </tr>\n",
       "    <tr>\n",
       "      <th>1993-12-10</th>\n",
       "      <td>147.167038</td>\n",
       "      <td>126.143173</td>\n",
       "      <td>141.911072</td>\n",
       "      <td>131.399139</td>\n",
       "      <td>1400.0</td>\n",
       "      <td>110.366234</td>\n",
       "    </tr>\n",
       "    <tr>\n",
       "      <th>1993-12-13</th>\n",
       "      <td>147.167038</td>\n",
       "      <td>126.143173</td>\n",
       "      <td>126.143173</td>\n",
       "      <td>128.771149</td>\n",
       "      <td>500.0</td>\n",
       "      <td>108.158875</td>\n",
       "    </tr>\n",
       "  </tbody>\n",
       "</table>\n",
       "</div>"
      ],
      "text/plain": [
       "                  High         Low        Open       Close  Volume   Adj Close\n",
       "Date                                                                          \n",
       "1993-12-07  147.167038  131.399139  134.027115  131.399139  2000.0  110.366234\n",
       "1993-12-08  147.167038  131.399139  131.399139  147.167038     0.0  123.610153\n",
       "1993-12-09  147.167038  131.399139  131.399139  147.167038   400.0  123.610153\n",
       "1993-12-10  147.167038  126.143173  141.911072  131.399139  1400.0  110.366234\n",
       "1993-12-13  147.167038  126.143173  126.143173  128.771149   500.0  108.158875"
      ]
     },
     "execution_count": 3,
     "metadata": {},
     "output_type": "execute_result"
    }
   ],
   "source": [
    "CHK.head()"
   ]
  },
  {
   "cell_type": "code",
   "execution_count": 4,
   "metadata": {},
   "outputs": [
    {
     "data": {
      "text/html": [
       "<div>\n",
       "<style scoped>\n",
       "    .dataframe tbody tr th:only-of-type {\n",
       "        vertical-align: middle;\n",
       "    }\n",
       "\n",
       "    .dataframe tbody tr th {\n",
       "        vertical-align: top;\n",
       "    }\n",
       "\n",
       "    .dataframe thead th {\n",
       "        text-align: right;\n",
       "    }\n",
       "</style>\n",
       "<table border=\"1\" class=\"dataframe\">\n",
       "  <thead>\n",
       "    <tr style=\"text-align: right;\">\n",
       "      <th></th>\n",
       "      <th>High</th>\n",
       "      <th>Low</th>\n",
       "      <th>Open</th>\n",
       "      <th>Close</th>\n",
       "      <th>Volume</th>\n",
       "      <th>Adj Close</th>\n",
       "    </tr>\n",
       "    <tr>\n",
       "      <th>Date</th>\n",
       "      <th></th>\n",
       "      <th></th>\n",
       "      <th></th>\n",
       "      <th></th>\n",
       "      <th></th>\n",
       "      <th></th>\n",
       "    </tr>\n",
       "  </thead>\n",
       "  <tbody>\n",
       "    <tr>\n",
       "      <th>2020-05-05</th>\n",
       "      <td>18.340000</td>\n",
       "      <td>15.26</td>\n",
       "      <td>17.129999</td>\n",
       "      <td>15.47</td>\n",
       "      <td>2804100.0</td>\n",
       "      <td>15.47</td>\n",
       "    </tr>\n",
       "    <tr>\n",
       "      <th>2020-05-06</th>\n",
       "      <td>16.700001</td>\n",
       "      <td>14.30</td>\n",
       "      <td>16.000000</td>\n",
       "      <td>14.85</td>\n",
       "      <td>1196900.0</td>\n",
       "      <td>14.85</td>\n",
       "    </tr>\n",
       "    <tr>\n",
       "      <th>2020-05-07</th>\n",
       "      <td>15.440000</td>\n",
       "      <td>14.55</td>\n",
       "      <td>15.010000</td>\n",
       "      <td>14.60</td>\n",
       "      <td>1357500.0</td>\n",
       "      <td>14.60</td>\n",
       "    </tr>\n",
       "    <tr>\n",
       "      <th>2020-05-08</th>\n",
       "      <td>15.050000</td>\n",
       "      <td>13.88</td>\n",
       "      <td>14.910000</td>\n",
       "      <td>14.70</td>\n",
       "      <td>1323700.0</td>\n",
       "      <td>14.70</td>\n",
       "    </tr>\n",
       "    <tr>\n",
       "      <th>2020-05-11</th>\n",
       "      <td>14.770000</td>\n",
       "      <td>12.71</td>\n",
       "      <td>14.460000</td>\n",
       "      <td>12.90</td>\n",
       "      <td>2128800.0</td>\n",
       "      <td>12.90</td>\n",
       "    </tr>\n",
       "  </tbody>\n",
       "</table>\n",
       "</div>"
      ],
      "text/plain": [
       "                 High    Low       Open  Close     Volume  Adj Close\n",
       "Date                                                                \n",
       "2020-05-05  18.340000  15.26  17.129999  15.47  2804100.0      15.47\n",
       "2020-05-06  16.700001  14.30  16.000000  14.85  1196900.0      14.85\n",
       "2020-05-07  15.440000  14.55  15.010000  14.60  1357500.0      14.60\n",
       "2020-05-08  15.050000  13.88  14.910000  14.70  1323700.0      14.70\n",
       "2020-05-11  14.770000  12.71  14.460000  12.90  2128800.0      12.90"
      ]
     },
     "execution_count": 4,
     "metadata": {},
     "output_type": "execute_result"
    }
   ],
   "source": [
    "CHK.tail()"
   ]
  },
  {
   "cell_type": "code",
   "execution_count": 5,
   "metadata": {},
   "outputs": [
    {
     "data": {
      "text/plain": [
       "Date\n",
       "1993-12-07         NaN\n",
       "1993-12-08    0.120000\n",
       "1993-12-09    0.000000\n",
       "1993-12-10   -0.107143\n",
       "1993-12-13   -0.020000\n",
       "                ...   \n",
       "2020-05-05   -0.006423\n",
       "2020-05-06   -0.040078\n",
       "2020-05-07   -0.016835\n",
       "2020-05-08    0.006849\n",
       "2020-05-11   -0.122449\n",
       "Name: simple_return, Length: 6654, dtype: float64"
      ]
     },
     "execution_count": 5,
     "metadata": {},
     "output_type": "execute_result"
    }
   ],
   "source": [
    "# Calculate the simple rate of return: (ending price - beginning price) / beginning price\n",
    "# Create a new column titles \"simple return\"\n",
    "# use pandas.DataFrame.shift(# of lags) to shift the index one day at time (taking from prev trading day)\n",
    "# This will calculate the daily rate of change, notice that NaN is present on the first row b/c there's no previous day to calculte from\n",
    "CHK['simple_return'] = (CHK['Adj Close'] / CHK['Adj Close'].shift(1)) - 1\n",
    "CHK['simple_return']"
   ]
  },
  {
   "cell_type": "code",
   "execution_count": 6,
   "metadata": {},
   "outputs": [
    {
     "data": {
      "image/png": "[encoded data removed]",
      "text/plain": [
       "<Figure size 576x360 with 1 Axes>"
      ]
     },
     "metadata": {
      "needs_background": "light"
     },
     "output_type": "display_data"
    }
   ],
   "source": [
    "CHK['simple_return'].plot(figsize=(8,5))\n",
    "plt.show()"
   ]
  },
  {
   "cell_type": "code",
   "execution_count": 7,
   "metadata": {},
   "outputs": [
    {
     "data": {
      "text/plain": [
       "0.000625021528613955"
      ]
     },
     "execution_count": 7,
     "metadata": {},
     "output_type": "execute_result"
    }
   ],
   "source": [
    "avg_returns_CHK_day = CHK['simple_return'].mean()\n",
    "avg_returns_CHK_day"
   ]
  },
  {
   "cell_type": "code",
   "execution_count": 8,
   "metadata": {},
   "outputs": [
    {
     "data": {
      "text/plain": [
       "0.15625538215348875"
      ]
     },
     "execution_count": 8,
     "metadata": {},
     "output_type": "execute_result"
    }
   ],
   "source": [
    "avg_returns_CHK_annual = CHK['simple_return'].mean() * 250\n",
    "avg_returns_CHK_annual"
   ]
  },
  {
   "cell_type": "code",
   "execution_count": 13,
   "metadata": {},
   "outputs": [
    {
     "data": {
      "text/plain": [
       "0.15625538215348875"
      ]
     },
     "execution_count": 13,
     "metadata": {},
     "output_type": "execute_result"
    }
   ],
   "source": [
    "avg_returns_CHK_annual"
   ]
  },
  {
   "cell_type": "code",
   "execution_count": 15,
   "metadata": {},
   "outputs": [
    {
     "data": {
      "text/plain": [
       "'0.15625538215348875 %'"
      ]
     },
     "execution_count": 15,
     "metadata": {},
     "output_type": "execute_result"
    }
   ],
   "source": [
    "# make the average daily change more presentable by rounding to 3 decimal places and transfering the integer into a string\n",
    "# (str(round(avg_returns_CHK_annual, 5) * 100 + '%')) - Not working properly, adding a percentage through a f'string print method\n",
    "f\"{avg_returns_CHK_annual} %\""
   ]
  }
 ],
 "metadata": {
  "kernelspec": {
   "display_name": "Python 3",
   "language": "python",
   "name": "python3"
  },
  "language_info": {
   "codemirror_mode": {
    "name": "ipython",
    "version": 3
   },
   "file_extension": ".py",
   "mimetype": "text/x-python",
   "name": "python",
   "nbconvert_exporter": "python",
   "pygments_lexer": "ipython3",
   "version": "3.7.1"
  }
 },
 "nbformat": 4,
 "nbformat_minor": 4
}
